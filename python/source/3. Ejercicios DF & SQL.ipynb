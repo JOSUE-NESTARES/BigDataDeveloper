{
 "cells": [
  {
   "cell_type": "markdown",
   "metadata": {
    "application/vnd.databricks.v1+cell": {
     "cellMetadata": {
      "byteLimit": 2048000,
      "rowLimit": 10000
     },
     "inputWidgets": {},
     "nuid": "b2521ced-6a12-4afc-8e42-e32a72d8989c",
     "showTitle": false,
     "tableResultSettingsMap": {},
     "title": ""
    }
   },
   "source": [
    "#Ejercicios"
   ]
  },
  {
   "cell_type": "code",
   "execution_count": 0,
   "metadata": {
    "application/vnd.databricks.v1+cell": {
     "cellMetadata": {
      "byteLimit": 2048000,
      "rowLimit": 10000
     },
     "inputWidgets": {},
     "nuid": "5161c32b-05a5-46d8-8b76-100b0f1610a4",
     "showTitle": false,
     "tableResultSettingsMap": {},
     "title": ""
    }
   },
   "outputs": [],
   "source": [
    "from pyspark.sql.types import *\n",
    "import pyspark.sql.functions as F\n",
    "from pyspark.sql.functions import udf, col"
   ]
  },
  {
   "cell_type": "code",
   "execution_count": 0,
   "metadata": {
    "application/vnd.databricks.v1+cell": {
     "cellMetadata": {
      "byteLimit": 2048000,
      "rowLimit": 10000
     },
     "inputWidgets": {},
     "nuid": "26df8e7a-1e73-4c9f-bc9f-678dacfd3594",
     "showTitle": true,
     "tableResultSettingsMap": {},
     "title": "Cargar datos de los archivos a dataframes"
    }
   },
   "outputs": [],
   "source": [
    "MOUNTPOINT = \"/mnt/[container]\"\n",
    "\n",
    "CUSTOMERS_DATA =   f'{MOUNTPOINT}/retail/customers'\n",
    "DEPARTMENTS_DATA = f'{MOUNTPOINT}/retail/departments'\n",
    "CATEGORIES_DATA =  f'{MOUNTPOINT}/retail/categories'\n",
    "PRODUCTS_DATA =    f'{MOUNTPOINT}/retail/products'\n",
    "ORDERS_DATA =      f'{MOUNTPOINT}/retail/orders'\n",
    "ORDER_ITEMS_DATA = f'{MOUNTPOINT}/retail/order_items'"
   ]
  },
  {
   "cell_type": "code",
   "execution_count": 0,
   "metadata": {
    "application/vnd.databricks.v1+cell": {
     "cellMetadata": {
      "byteLimit": 2048000,
      "rowLimit": 10000
     },
     "inputWidgets": {},
     "nuid": "ac2b240f-c621-41a3-baba-e39292ac446d",
     "showTitle": false,
     "tableResultSettingsMap": {},
     "title": ""
    }
   },
   "outputs": [],
   "source": [
    "# define the schema, corresponding to a line in the csv data file for Customer\n",
    "customers_schema = StructType([\n",
    "    StructField('customer_id',       IntegerType(), nullable=True),\n",
    "    StructField('customer_fname',    StringType(), nullable=True),\n",
    "    StructField('customer_lname',    StringType(), nullable=True),\n",
    "    StructField('customer_email',    StringType(), nullable=True),\n",
    "    StructField('customer_password', StringType(), nullable=True),\n",
    "    StructField('customer_street',   StringType(), nullable=True),\n",
    "    StructField('customer_city',     StringType(), nullable=True),\n",
    "    StructField('customer_state',    StringType(), nullable=True),\n",
    "    StructField('customer_zipcode',  StringType(), nullable=True)])"
   ]
  },
  {
   "cell_type": "code",
   "execution_count": 0,
   "metadata": {
    "application/vnd.databricks.v1+cell": {
     "cellMetadata": {
      "byteLimit": 2048000,
      "rowLimit": 10000
     },
     "inputWidgets": {},
     "nuid": "d4069fe5-4e08-442a-9178-57dc0e4adccd",
     "showTitle": false,
     "tableResultSettingsMap": {},
     "title": ""
    }
   },
   "outputs": [],
   "source": [
    "departments_schema = StructType([\n",
    "    StructField('department_id',   IntegerType(), nullable=True),\n",
    "    StructField('department_name', StringType(), nullable=True)])"
   ]
  },
  {
   "cell_type": "code",
   "execution_count": 0,
   "metadata": {
    "application/vnd.databricks.v1+cell": {
     "cellMetadata": {
      "byteLimit": 2048000,
      "rowLimit": 10000
     },
     "inputWidgets": {},
     "nuid": "7eff465a-01f6-45f8-b38d-fa1d5ba8ed41",
     "showTitle": false,
     "tableResultSettingsMap": {},
     "title": ""
    }
   },
   "outputs": [],
   "source": [
    "categories_schema = StructType([\n",
    "    StructField('category_id',            IntegerType(), nullable=True),\n",
    "    StructField('category_department_id', IntegerType(), nullable=True),\n",
    "    StructField('category_name',          StringType(), nullable=True)])"
   ]
  },
  {
   "cell_type": "code",
   "execution_count": 0,
   "metadata": {
    "application/vnd.databricks.v1+cell": {
     "cellMetadata": {
      "byteLimit": 2048000,
      "rowLimit": 10000
     },
     "inputWidgets": {},
     "nuid": "4675f4dd-d34a-4beb-b19a-14516e23f707",
     "showTitle": false,
     "tableResultSettingsMap": {},
     "title": ""
    }
   },
   "outputs": [],
   "source": [
    "products_schema = StructType([\n",
    "    StructField('product_id',          IntegerType(), nullable=True),\n",
    "    StructField('product_category_id', IntegerType(), nullable=True),\n",
    "    StructField('product_name',        StringType(), nullable=True),\n",
    "    StructField('product_description', StringType(), nullable=True),\n",
    "    StructField('product_price',       FloatType(), nullable=True),\n",
    "    StructField('product_image',       StringType(), nullable=True)])"
   ]
  },
  {
   "cell_type": "code",
   "execution_count": 0,
   "metadata": {
    "application/vnd.databricks.v1+cell": {
     "cellMetadata": {
      "byteLimit": 2048000,
      "rowLimit": 10000
     },
     "inputWidgets": {},
     "nuid": "4b29f5a0-047f-485d-b133-158a537cf0f9",
     "showTitle": false,
     "tableResultSettingsMap": {},
     "title": ""
    }
   },
   "outputs": [],
   "source": [
    "orders_schema = StructType([\n",
    "    StructField('order_id',          IntegerType(), nullable=True),\n",
    "    StructField('order_date',        StringType(), nullable=True),\n",
    "    StructField('order_customer_id', IntegerType(), nullable=True),\n",
    "    StructField('order_status',      StringType(), nullable=True)])"
   ]
  },
  {
   "cell_type": "code",
   "execution_count": 0,
   "metadata": {
    "application/vnd.databricks.v1+cell": {
     "cellMetadata": {
      "byteLimit": 2048000,
      "rowLimit": 10000
     },
     "inputWidgets": {},
     "nuid": "4ffac21b-942e-42dc-a889-15e675baa858",
     "showTitle": false,
     "tableResultSettingsMap": {},
     "title": ""
    }
   },
   "outputs": [],
   "source": [
    "order_items_schema = StructType([\n",
    "    StructField('order_item_id',            IntegerType(), nullable=True),\n",
    "     StructField('order_item_order_id',      IntegerType(), nullable=True),\n",
    "    StructField('order_item_product_id',    IntegerType(), nullable=True),\n",
    "    StructField('order_item_quantity',      IntegerType(), nullable=True),\n",
    "     StructField('order_item_subtotal',      FloatType(), nullable=True),\n",
    "     StructField('order_item_product_price', FloatType(), nullable=True)])"
   ]
  },
  {
   "cell_type": "code",
   "execution_count": 0,
   "metadata": {
    "application/vnd.databricks.v1+cell": {
     "cellMetadata": {
      "byteLimit": 2048000,
      "rowLimit": 10000
     },
     "inputWidgets": {},
     "nuid": "5782f670-9eb2-42eb-93db-2c52da3f7b63",
     "showTitle": false,
     "tableResultSettingsMap": {},
     "title": ""
    }
   },
   "outputs": [],
   "source": [
    "customers_df = spark.read.csv(path=CUSTOMERS_DATA, schema=customers_schema, sep='|')\n",
    "display(customers_df)"
   ]
  },
  {
   "cell_type": "code",
   "execution_count": 0,
   "metadata": {
    "application/vnd.databricks.v1+cell": {
     "cellMetadata": {
      "byteLimit": 2048000,
      "rowLimit": 10000
     },
     "inputWidgets": {},
     "nuid": "a84304d8-820d-4ea5-a99d-99bc49fe5c78",
     "showTitle": false,
     "tableResultSettingsMap": {},
     "title": ""
    }
   },
   "outputs": [],
   "source": [
    "# Load data\n",
    "customers_df = spark.read.csv(path=CUSTOMERS_DATA, schema=customers_schema, sep='|')\n",
    "customers_df.cache()\n",
    "\n",
    "departments_df = spark.read.csv(path=DEPARTMENTS_DATA, schema=departments_schema, sep='|')\n",
    "departments_df.cache()\n",
    "\n",
    "categories_df = spark.read.csv(path=CATEGORIES_DATA, schema=categories_schema, sep='|')\n",
    "categories_df.cache()\n",
    "\n",
    "products_df = spark.read.csv(path=PRODUCTS_DATA, schema=products_schema, sep='|')\n",
    "products_df.cache()\n",
    "\n",
    "orders_df = spark.read.csv(path=ORDERS_DATA, schema=orders_schema, sep='|')\n",
    "orders_df.cache()\n",
    "\n",
    "order_items_df = spark.read.csv(path=ORDER_ITEMS_DATA, schema=order_items_schema, sep='|')\n",
    "order_items_df.cache()"
   ]
  },
  {
   "cell_type": "code",
   "execution_count": 0,
   "metadata": {
    "application/vnd.databricks.v1+cell": {
     "cellMetadata": {
      "byteLimit": 2048000,
      "rowLimit": 10000
     },
     "inputWidgets": {},
     "nuid": "1cba086a-8c28-4ab6-81e6-7ef5ffdd54c6",
     "showTitle": false,
     "tableResultSettingsMap": {},
     "title": ""
    }
   },
   "outputs": [],
   "source": [
    "customers_df.createOrReplaceTempView(\"customers\")\n",
    "orders_df.createOrReplaceTempView(\"orders\")\n",
    "order_items_df.createOrReplaceTempView(\"order_items\")\n",
    "products_df.createOrReplaceTempView(\"products\")\n",
    "categories_df.createOrReplaceTempView(\"categories\")\n",
    "departments_df.createOrReplaceTempView(\"departments\")\n"
   ]
  },
  {
   "cell_type": "code",
   "execution_count": 0,
   "metadata": {
    "application/vnd.databricks.v1+cell": {
     "cellMetadata": {
      "byteLimit": 2048000,
      "rowLimit": 10000
     },
     "inputWidgets": {},
     "nuid": "f699b2f5-f94b-4bf1-bf66-7f757d04a180",
     "showTitle": false,
     "tableResultSettingsMap": {},
     "title": ""
    }
   },
   "outputs": [],
   "source": [
    "customers_df.show(5, truncate=False)\n",
    "orders_df.show(5)\n",
    "order_items_df.show(5)\n",
    "products_df.show(5)\n",
    "categories_df.show(5)\n",
    "departments_df.show(5)"
   ]
  },
  {
   "cell_type": "code",
   "execution_count": 0,
   "metadata": {
    "application/vnd.databricks.v1+cell": {
     "cellMetadata": {
      "byteLimit": 2048000,
      "implicitDf": true,
      "rowLimit": 10000
     },
     "inputWidgets": {},
     "nuid": "552c3dfa-2ebf-4bb6-b06f-08e71640aae2",
     "showTitle": true,
     "tableResultSettingsMap": {},
     "title": "Ingreso promedio por dia"
    }
   },
   "outputs": [],
   "source": [
    "query = \"\"\"\n",
    "          SELECT o.order_date, sum(oi.order_item_subtotal) / COUNT(DISTINCT oi.order_item_order_id) as avg_rev_per_day\n",
    "          FROM orders o JOIN order_items oi \n",
    "              ON o.order_id = oi.order_item_order_id\n",
    "          GROUP BY o.order_date \n",
    "          ORDER BY o.order_date\n",
    "          \"\"\"\n",
    "\n",
    "display(spark.sql(query))"
   ]
  },
  {
   "cell_type": "code",
   "execution_count": 0,
   "metadata": {
    "application/vnd.databricks.v1+cell": {
     "cellMetadata": {
      "byteLimit": 2048000,
      "rowLimit": 10000
     },
     "inputWidgets": {},
     "nuid": "82091ab4-385a-4af8-ba4f-54f4f8248f05",
     "showTitle": false,
     "tableResultSettingsMap": {},
     "title": ""
    }
   },
   "outputs": [],
   "source": [
    "avg_rev_per_day = (orders_df.join(order_items_df, orders_df.order_id == order_items_df.order_item_order_id)\n",
    "     .select(['order_date', 'order_item_subtotal', 'order_item_order_id'])\n",
    "     .groupBy('order_date')\n",
    "     .agg((F.sum('order_item_subtotal') / F.countDistinct('order_item_order_id')).alias('avg_rev_per_day'))\n",
    "     .orderBy('order_date'))\n",
    "\n",
    "avg_rev_per_day.cache()\n",
    "\n",
    "avg_rev_per_day.show()"
   ]
  },
  {
   "cell_type": "code",
   "execution_count": 0,
   "metadata": {
    "application/vnd.databricks.v1+cell": {
     "cellMetadata": {
      "byteLimit": 2048000,
      "rowLimit": 10000
     },
     "inputWidgets": {},
     "nuid": "57816b45-4495-4b71-92c9-a0f2e98808a9",
     "showTitle": false,
     "tableResultSettingsMap": {},
     "title": ""
    }
   },
   "outputs": [],
   "source": [
    "avg_rev_per_month = (avg_rev_per_day\n",
    "                     .select(F.month('order_date').alias('month'), 'avg_rev_per_day')\n",
    "                     .groupBy('month')\n",
    "                     .agg(F.avg('avg_rev_per_day').alias('avg_rev_per_month'))\n",
    "                     .orderBy('month'))\n",
    "\n",
    "avg_rev_per_month.cache()"
   ]
  },
  {
   "cell_type": "code",
   "execution_count": 0,
   "metadata": {
    "application/vnd.databricks.v1+cell": {
     "cellMetadata": {
      "byteLimit": 2048000,
      "rowLimit": 10000
     },
     "inputWidgets": {},
     "nuid": "34d1fcd7-c4e6-41c9-b3e5-cbd40eda9364",
     "showTitle": false,
     "tableResultSettingsMap": {},
     "title": ""
    }
   },
   "outputs": [],
   "source": [
    "avg_rev_per_month.show(truncate=False)"
   ]
  },
  {
   "cell_type": "code",
   "execution_count": 0,
   "metadata": {
    "application/vnd.databricks.v1+cell": {
     "cellMetadata": {
      "byteLimit": 2048000,
      "rowLimit": 10000
     },
     "inputWidgets": {},
     "nuid": "59ccb46e-32c4-4847-b5d9-398fa13072ed",
     "showTitle": false,
     "tableResultSettingsMap": {},
     "title": ""
    }
   },
   "outputs": [],
   "source": [
    "display(avg_rev_per_month)\n"
   ]
  },
  {
   "cell_type": "code",
   "execution_count": 0,
   "metadata": {
    "application/vnd.databricks.v1+cell": {
     "cellMetadata": {
      "byteLimit": 2048000,
      "implicitDf": true,
      "rowLimit": 10000
     },
     "inputWidgets": {},
     "nuid": "965b439c-1b74-445b-8b6d-6bc647d1b683",
     "showTitle": false,
     "tableResultSettingsMap": {},
     "title": ""
    }
   },
   "outputs": [],
   "source": [
    "%sql\n",
    "SELECT o.order_date, sum(oi.order_item_subtotal) / COUNT(DISTINCT oi.order_item_order_id) as avg_rev_per_day\n",
    "          FROM orders o JOIN order_items oi \n",
    "              ON o.order_id = oi.order_item_order_id\n",
    "          GROUP BY o.order_date \n",
    "          ORDER BY o.order_date"
   ]
  },
  {
   "cell_type": "code",
   "execution_count": 0,
   "metadata": {
    "application/vnd.databricks.v1+cell": {
     "cellMetadata": {
      "byteLimit": 2048000,
      "rowLimit": 10000
     },
     "inputWidgets": {},
     "nuid": "bed6dc4c-b648-4043-bd0c-41fbe7ea3fcd",
     "showTitle": false,
     "tableResultSettingsMap": {},
     "title": ""
    }
   },
   "outputs": [],
   "source": [
    "avg_rev_per_month.unpersist()\n",
    "avg_rev_per_day.unpersist()\n"
   ]
  },
  {
   "cell_type": "code",
   "execution_count": 0,
   "metadata": {
    "application/vnd.databricks.v1+cell": {
     "cellMetadata": {
      "byteLimit": 2048000,
      "rowLimit": 10000
     },
     "inputWidgets": {},
     "nuid": "402d2336-5271-47f5-946a-653b1b0f2a7b",
     "showTitle": true,
     "tableResultSettingsMap": {},
     "title": "Obtener ingresos totales por año y por mes"
    }
   },
   "outputs": [],
   "source": [
    "query = \"\"\"\n",
    "            SELECT YEAR(o.order_date) as order_year, MONTH(o.order_date) as order_month, SUM(oi.order_item_subtotal) tot_revenue \n",
    "          FROM orders o JOIN order_items oi \n",
    "              ON o.order_id = oi.order_item_order_id\n",
    "          GROUP BY order_year, order_month \n",
    "          ORDER BY order_year, order_month\n",
    "\"\"\"\n",
    "\n",
    "display(spark.sql(query))"
   ]
  },
  {
   "cell_type": "code",
   "execution_count": 0,
   "metadata": {
    "application/vnd.databricks.v1+cell": {
     "cellMetadata": {
      "byteLimit": 2048000,
      "rowLimit": 10000
     },
     "inputWidgets": {},
     "nuid": "c1447a59-4560-4699-94ef-fe2fb3b5ec80",
     "showTitle": false,
     "tableResultSettingsMap": {},
     "title": ""
    }
   },
   "outputs": [],
   "source": [
    "tot_rev_per_month_per_year = (orders_df.join(order_items_df, orders_df.order_id == order_items_df.order_item_order_id)\n",
    "     .select([F.year('order_date').alias('order_year'), F.month('order_date').alias('order_month'), 'order_item_subtotal'])\n",
    "     .groupBy(['order_year', 'order_month'])\n",
    "     .agg(F.sum('order_item_subtotal').alias('tot_revenue'))\n",
    "     .orderBy(['order_year', 'order_month']))\n"
   ]
  },
  {
   "cell_type": "code",
   "execution_count": 0,
   "metadata": {
    "application/vnd.databricks.v1+cell": {
     "cellMetadata": {
      "byteLimit": 2048000,
      "rowLimit": 10000
     },
     "inputWidgets": {},
     "nuid": "2a3aef7e-f70f-490c-976f-8f5179c3c08b",
     "showTitle": false,
     "tableResultSettingsMap": {},
     "title": ""
    }
   },
   "outputs": [],
   "source": [
    "tot_rev_per_month_per_year.show()"
   ]
  },
  {
   "cell_type": "code",
   "execution_count": 0,
   "metadata": {
    "application/vnd.databricks.v1+cell": {
     "cellMetadata": {
      "byteLimit": 2048000,
      "implicitDf": true,
      "rowLimit": 10000
     },
     "inputWidgets": {},
     "nuid": "c1fa62f8-44fb-45b0-b3fb-11a91be1f314",
     "showTitle": false,
     "tableResultSettingsMap": {},
     "title": ""
    }
   },
   "outputs": [],
   "source": [
    "%sql\n",
    "SELECT YEAR(o.order_date) as order_year, MONTH(o.order_date) as order_month, SUM(oi.order_item_subtotal) tot_revenue \n",
    "          FROM orders o JOIN order_items oi \n",
    "              ON o.order_id = oi.order_item_order_id\n",
    "          GROUP BY order_year, order_month \n",
    "          ORDER BY order_year, order_month"
   ]
  },
  {
   "cell_type": "code",
   "execution_count": 0,
   "metadata": {
    "application/vnd.databricks.v1+cell": {
     "cellMetadata": {
      "byteLimit": 2048000,
      "rowLimit": 10000
     },
     "inputWidgets": {},
     "nuid": "286bf084-20c3-4fe5-b03b-2f69ae8c2488",
     "showTitle": true,
     "tableResultSettingsMap": {},
     "title": "Departamentos con mejor desempeño"
    }
   },
   "outputs": [],
   "source": [
    "query = \"\"\"\n",
    "           SELECT d.department_name, YEAR(o.order_date) as order_year, SUM(oi.order_item_subtotal) as tot_revenue\n",
    "           FROM orders o \n",
    "              INNER JOIN order_items oi \n",
    "                  ON o.order_id = oi.order_item_order_id\n",
    "              INNER JOIN products p\n",
    "                  ON oi.order_item_product_id = p.product_id\n",
    "              INNER JOIN categories c\n",
    "                  ON c.category_id = p.product_category_id\n",
    "              INNER JOIN departments d\n",
    "                  ON c.category_department_id = d.department_id\n",
    "          WHERE o.order_status <> 'CANCELED' AND o.order_status <> 'SUSPECTED_FRAUD'\n",
    "          GROUP BY d.department_name, order_year\n",
    "          ORDER BY d.department_name, order_year\n",
    "        \"\"\"\n",
    "display(spark.sql(query))"
   ]
  },
  {
   "cell_type": "code",
   "execution_count": 0,
   "metadata": {
    "application/vnd.databricks.v1+cell": {
     "cellMetadata": {
      "byteLimit": 2048000,
      "rowLimit": 10000
     },
     "inputWidgets": {},
     "nuid": "6a52c75e-21d1-43c3-85c7-c5037ed203ea",
     "showTitle": false,
     "tableResultSettingsMap": {},
     "title": ""
    }
   },
   "outputs": [],
   "source": [
    "df = (orders_df\n",
    "      .filter((orders_df.order_status != 'CANCELED') & (orders_df.order_status != 'SUSPECTED_FRAUD'))\n",
    "      .join(order_items_df, orders_df.order_id == order_items_df.order_item_order_id, how='inner')\n",
    "      .join(products_df, order_items_df.order_item_product_id == products_df.product_id, how='inner')\n",
    "      .join(categories_df, products_df.product_category_id == categories_df.category_id, how='inner')\n",
    "      .join(departments_df, categories_df.category_department_id == departments_df.department_id, how='inner')\n",
    "      .select('department_name', F.year(orders_df.order_date).alias('order_year'), 'order_item_subtotal')\n",
    "      .groupBy([departments_df.department_name, 'order_year'])\n",
    "      .agg(F.sum(order_items_df.order_item_subtotal).alias('tot_revenue'))\n",
    "      .orderBy('department_name', 'order_year'))\n",
    "df.show()"
   ]
  },
  {
   "cell_type": "code",
   "execution_count": 0,
   "metadata": {
    "application/vnd.databricks.v1+cell": {
     "cellMetadata": {
      "byteLimit": 2048000,
      "rowLimit": 10000
     },
     "inputWidgets": {},
     "nuid": "903cbfe7-f6f9-48b5-95a1-93ba20d0ef8d",
     "showTitle": false,
     "tableResultSettingsMap": {},
     "title": ""
    }
   },
   "outputs": [],
   "source": [
    "pivotDF = df.groupBy(\"department_name\").pivot(\"order_year\").sum(\"tot_revenue\")\n",
    "display(pivotDF)"
   ]
  },
  {
   "cell_type": "code",
   "execution_count": 0,
   "metadata": {
    "application/vnd.databricks.v1+cell": {
     "cellMetadata": {
      "byteLimit": 2048000,
      "rowLimit": 10000
     },
     "inputWidgets": {},
     "nuid": "f36d02c3-8bdc-45ac-a7a3-d20cd6d25213",
     "showTitle": true,
     "tableResultSettingsMap": {},
     "title": "Los 5 productos mas vendidos por año y por mes"
    }
   },
   "outputs": [],
   "source": [
    "monthmap = {1:\"Jan\", 2:\"Feb\", 3:\"Mar\",  4:\"Apr\", 5:\"May\", 6:\"Jun\", 7:\"Jul\", 8:\"Aug\", 9:\"Sep\", 10:\"Oct\", 11:\"Nov\", 12:\"Dec\"}\n",
    "def function_map(m):\n",
    "    return monthmap[m]\n",
    "\n",
    "spark.udf.register(\"udfmonTomonth\", lambda m: monthmap[m], StringType())"
   ]
  },
  {
   "cell_type": "code",
   "execution_count": 0,
   "metadata": {
    "application/vnd.databricks.v1+cell": {
     "cellMetadata": {
      "byteLimit": 2048000,
      "rowLimit": 10000
     },
     "inputWidgets": {},
     "nuid": "1b5b9be2-3604-4669-87e1-c3e779a4f9f5",
     "showTitle": false,
     "tableResultSettingsMap": {},
     "title": ""
    }
   },
   "outputs": [],
   "source": [
    "query = \"\"\"\n",
    "          SELECT q.* \n",
    "          FROM (\n",
    "               SELECT r.*, DENSE_RANK() OVER (PARTITION by order_year, order_month ORDER BY product_revenue DESC) as dense_rank\n",
    "               FROM (\n",
    "                    SELECT YEAR(o.order_date) as order_year, udfmonTomonth(MONTH(o.order_date)) as order_month, p.product_name, ROUND(SUM(CAST(oi.order_item_subtotal as float)), 2) as product_revenue\n",
    "                    FROM order_items oi \n",
    "                        INNER JOIN orders o \n",
    "                            ON oi.order_item_order_id = o.order_id\n",
    "                        INNER JOIN products p\n",
    "                            ON oi.order_item_product_id = p.product_id\n",
    "                        WHERE o.order_status <> 'CANCELED' AND o.order_status <> 'SUSPECTED_FRAUD'\n",
    "                        GROUP BY order_year, order_month, p.product_name ) r ) q\n",
    "          WHERE q.dense_rank <= 5\n",
    "          ORDER BY q.order_year, q.order_month, q.dense_rank\n",
    "        \"\"\"\n",
    "\n",
    "display(spark.sql(query))"
   ]
  },
  {
   "cell_type": "code",
   "execution_count": 0,
   "metadata": {
    "application/vnd.databricks.v1+cell": {
     "cellMetadata": {
      "byteLimit": 2048000,
      "rowLimit": 10000
     },
     "inputWidgets": {},
     "nuid": "0593d7b2-bd44-4672-9bea-49b4c9e01ec0",
     "showTitle": false,
     "tableResultSettingsMap": {},
     "title": ""
    }
   },
   "outputs": [],
   "source": [
    "udfmonTomonth = udf(lambda m: monthmap[m], StringType())"
   ]
  },
  {
   "cell_type": "code",
   "execution_count": 0,
   "metadata": {
    "application/vnd.databricks.v1+cell": {
     "cellMetadata": {
      "byteLimit": 2048000,
      "rowLimit": 10000
     },
     "inputWidgets": {},
     "nuid": "ede90ed4-4fee-4ea5-a000-75a9cde4e636",
     "showTitle": false,
     "tableResultSettingsMap": {},
     "title": ""
    }
   },
   "outputs": [],
   "source": [
    "rev_per_month_per_year_per_product = (orders_df\n",
    "                         .select(F.year('order_date').alias('order_year'), udfmonTomonth(F.month('order_date')).alias('order_month'), 'order_id', 'order_status')\n",
    "                         .where((col('order_status') != 'CANCELED') & (col('order_status') != 'SUSPECTED_FRAUD'))\n",
    "                         .join(order_items_df, orders_df.order_id == order_items_df.order_item_order_id, how='inner')\n",
    "                         .join(products_df, order_items_df.order_item_product_id == products_df.product_id, how='inner')\n",
    "                         .select(['order_year', 'order_month', 'product_name', 'order_item_subtotal'])\n",
    "                         .groupBy(['order_year', 'order_month', 'product_name'])\n",
    "                         .agg(F.round(F.sum('order_item_subtotal'), 2).alias('product_revenue')))\n",
    "rev_per_month_per_year_per_product.show()"
   ]
  },
  {
   "cell_type": "code",
   "execution_count": 0,
   "metadata": {
    "application/vnd.databricks.v1+cell": {
     "cellMetadata": {
      "byteLimit": 2048000,
      "rowLimit": 10000
     },
     "inputWidgets": {},
     "nuid": "b7780c36-330d-4a44-a5e7-208e94ea4076",
     "showTitle": true,
     "tableResultSettingsMap": {},
     "title": "Categorías mas populares"
    }
   },
   "outputs": [],
   "source": [
    "query = \"\"\"\n",
    "          SELECT c.category_name, COUNT(order_item_quantity) as order_count \n",
    "          FROM order_items oi \n",
    "          INNER JOIN products p on oi.order_item_product_id = p.product_id \n",
    "          INNER JOIN categories c on c.category_id = p.product_category_id \n",
    "          GROUP BY c.category_name \n",
    "          ORDER BY order_count DESC \n",
    "          LIMIT 10 \n",
    "        \"\"\"\n",
    "display(spark.sql(query))"
   ]
  },
  {
   "cell_type": "code",
   "execution_count": 0,
   "metadata": {
    "application/vnd.databricks.v1+cell": {
     "cellMetadata": {
      "byteLimit": 2048000,
      "rowLimit": 10000
     },
     "inputWidgets": {},
     "nuid": "a511f67a-fed3-4964-9693-08f12fba3b7c",
     "showTitle": false,
     "tableResultSettingsMap": {},
     "title": ""
    }
   },
   "outputs": [],
   "source": [
    "pop_cat = (order_items_df\n",
    " .join(products_df, order_items_df.order_item_product_id == products_df.product_id, how='inner')\n",
    " .join(categories_df, categories_df.category_id == products_df.product_category_id, how='inner')\n",
    " .groupBy('category_name')\n",
    " .agg(F.sum('order_item_quantity').alias('order_count'))\n",
    " .orderBy('order_count', ascending=False)\n",
    " .limit(10))\n",
    "pop_cat.show()"
   ]
  },
  {
   "cell_type": "code",
   "execution_count": 0,
   "metadata": {
    "application/vnd.databricks.v1+cell": {
     "cellMetadata": {
      "byteLimit": 2048000,
      "rowLimit": 10000
     },
     "inputWidgets": {},
     "nuid": "6430d491-55a0-42f4-8b2c-71befc2db5b7",
     "showTitle": false,
     "tableResultSettingsMap": {},
     "title": ""
    }
   },
   "outputs": [],
   "source": [
    "q = \"\"\"\n",
    "        SELECT customer_id, customer_fname, customer_lname, customer_email, sum(order_item_quantity) as quantity_item_total, sum(order_item_subtotal)as total\n",
    "        FROM\n",
    "            customers as c\n",
    "        INNER JOIN\n",
    "            orders as o\n",
    "            ON c.customer_id = o.order_customer_id\n",
    "        INNER JOIN\n",
    "           order_items as oi\n",
    "            ON o.order_id = oi.order_item_order_id\n",
    "        WHERE order_status <> 'CANCELED'\n",
    "        GROUP BY customer_id, customer_fname, customer_lname, customer_email\n",
    "        ORDER BY  total DESC\n",
    "        LIMIT 20\n",
    "    \"\"\"\n",
    "display(spark.sql(q))"
   ]
  },
  {
   "cell_type": "code",
   "execution_count": 0,
   "metadata": {
    "application/vnd.databricks.v1+cell": {
     "cellMetadata": {
      "byteLimit": 2048000,
      "rowLimit": 10000
     },
     "inputWidgets": {},
     "nuid": "8174120a-6ed9-44ce-be8b-0edde66fe5b9",
     "showTitle": false,
     "tableResultSettingsMap": {},
     "title": ""
    }
   },
   "outputs": [],
   "source": [
    "q = \"\"\"\n",
    "        SELECT\n",
    "            ca.category_name, sum(order_item_quantity) as item_quantity, cast(sum(order_item_subtotal) AS INT )as total\n",
    "        FROM order_items as oi\n",
    "        INNER JOIN\n",
    "            products as p\n",
    "            ON oi.order_item_product_id = p.product_id\n",
    "        INNER JOIN\n",
    "            categories as ca\n",
    "            ON p.product_category_id = ca.category_id\n",
    "        GROUP BY ca.category_name\n",
    "      \"\"\"\n",
    "display(spark.sql(q))"
   ]
  },
  {
   "cell_type": "code",
   "execution_count": 0,
   "metadata": {
    "application/vnd.databricks.v1+cell": {
     "cellMetadata": {
      "byteLimit": 2048000,
      "rowLimit": 10000
     },
     "inputWidgets": {},
     "nuid": "f57c0991-a132-4ece-89ff-e662c396b6b8",
     "showTitle": false,
     "tableResultSettingsMap": {},
     "title": ""
    }
   },
   "outputs": [],
   "source": [
    "q = \"\"\"\n",
    "        SELECT\n",
    "            customer_city, category_name\n",
    "        FROM (SELECT\n",
    "            customer_city, category_name, count(category_name) as quantity, DENSE_RANK () OVER ( \n",
    "                        PARTITION BY customer_city \n",
    "                        ORDER BY count(category_name) DESC\n",
    "                    ) rank\n",
    "            FROM\n",
    "                customers as c\n",
    "            INNER JOIN\n",
    "                orders as o\n",
    "                ON c.customer_id = o.order_customer_id\n",
    "            INNER JOIN\n",
    "                order_items as oi\n",
    "                ON o.order_id = oi.order_item_order_id\n",
    "            INNER JOIN\n",
    "                products as p\n",
    "                ON oi.order_item_product_id = p.product_id\n",
    "            INNER JOIN\n",
    "                categories as ca\n",
    "                ON p.product_category_id = ca.category_id\n",
    "            GROUP BY customer_city, category_name\n",
    "            ) t\n",
    "            WHERE rank = 1\n",
    "       \"\"\"\n",
    "\n",
    "display(spark.sql(q))"
   ]
  },
  {
   "cell_type": "code",
   "execution_count": 0,
   "metadata": {
    "application/vnd.databricks.v1+cell": {
     "cellMetadata": {
      "byteLimit": 2048000,
      "rowLimit": 10000
     },
     "inputWidgets": {},
     "nuid": "a4407ac9-dd6e-46f5-a64c-fc358aab96d8",
     "showTitle": false,
     "tableResultSettingsMap": {},
     "title": ""
    }
   },
   "outputs": [],
   "source": [
    "q = \"\"\"\n",
    "        SELECT\n",
    "            customer_city, product_name, quantity, total\n",
    "            FROM (SELECT\n",
    "                customer_city, product_name,sum(order_item_quantity) as quantity,sum(order_item_subtotal) as total, DENSE_RANK () OVER ( \n",
    "                            PARTITION BY customer_city \n",
    "                            ORDER BY sum(order_item_quantity) DESC\n",
    "                        ) rank\n",
    "                FROM\n",
    "                    customers as c\n",
    "                INNER JOIN\n",
    "                    orders as o\n",
    "                    ON c.customer_id = o.order_customer_id\n",
    "                INNER JOIN\n",
    "                    order_items as oi\n",
    "                    ON o.order_id = oi.order_item_order_id\n",
    "                INNER JOIN\n",
    "                    products as p\n",
    "                    ON oi.order_item_product_id = p.product_id\n",
    "                INNER JOIN\n",
    "                    categories as ca\n",
    "                    ON p.product_category_id = ca.category_id\n",
    "                GROUP BY customer_city, product_name\n",
    "                ) t\n",
    "        WHERE rank < 6\n",
    "        ORDER BY quantity DESC\n",
    "     \"\"\"\n",
    "display(spark.sql(q))"
   ]
  },
  {
   "cell_type": "code",
   "execution_count": 0,
   "metadata": {
    "application/vnd.databricks.v1+cell": {
     "cellMetadata": {
      "byteLimit": 2048000,
      "rowLimit": 10000
     },
     "inputWidgets": {},
     "nuid": "b6d44a54-c124-461a-8a21-e0d48f4d3104",
     "showTitle": false,
     "tableResultSettingsMap": {},
     "title": ""
    }
   },
   "outputs": [],
   "source": []
  }
 ],
 "metadata": {
  "application/vnd.databricks.v1+notebook": {
   "computePreferences": null,
   "dashboards": [
    {
     "elements": [
      {
       "dashboardResultIndex": 0,
       "elementNUID": "59ccb46e-32c4-4847-b5d9-398fa13072ed",
       "elementType": "command",
       "guid": "2319c839-a81a-4dbe-9375-913aac6a0386",
       "options": null,
       "position": null,
       "resultIndex": null
      }
     ],
     "globalVars": {},
     "guid": "",
     "layoutOption": {
      "grid": true,
      "stack": true
     },
     "nuid": "78975269-ff30-488e-a105-bd23bf066972",
     "origId": 253242481238635,
     "title": "Untitled",
     "version": "DashboardViewV1",
     "width": 1024
    }
   ],
   "environmentMetadata": null,
   "language": "python",
   "notebookMetadata": {
    "mostRecentlyExecutedCommandWithImplicitDF": {
     "commandId": 1406833015950211,
     "dataframes": [
      "_sqldf"
     ]
    },
    "pythonIndentUnit": 4
   },
   "notebookName": "3. Ejercicios DF & SQL",
   "widgets": {}
  }
 },
 "nbformat": 4,
 "nbformat_minor": 0
}
